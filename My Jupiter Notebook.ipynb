{
 "cells": [
  {
   "cell_type": "markdown",
   "id": "7e5af3fc-ccd2-417c-bac0-d21ea1ef0441",
   "metadata": {
    "tags": []
   },
   "source": [
    "<h1>My Jupyter Notebook on Watson Studio</h1>"
   ]
  },
  {
   "cell_type": "markdown",
   "id": "c78e0dcf-1a7f-4d5c-b0e1-fd2827dafd13",
   "metadata": {},
   "source": [
    "<strong>Matt Eklund</strong>\n",
    "<br>Aspiring Data Scientist "
   ]
  },
  {
   "cell_type": "markdown",
   "id": "8fd3e6ab-4b9b-465e-9582-ce68b986e27d",
   "metadata": {},
   "source": [
    "<em>I see many problems in today's world, and offering an organized look at various data feels like my contribution. With big issues like global climate change, industrial agriculture, and the efficiency of governing bodies, data science can offer a lot of helpful advice. </em>"
   ]
  },
  {
   "cell_type": "markdown",
   "id": "55379c2e-32b5-4cbe-9afb-a94d790408f3",
   "metadata": {},
   "source": [
    "<h3>The following code will take a math problem and solve it.</h3>"
   ]
  },
  {
   "cell_type": "code",
   "execution_count": 2,
   "id": "4b098af5-2fd5-477f-8756-99552708ba5e",
   "metadata": {},
   "outputs": [
    {
     "data": {
      "text/plain": [
       "1000000001"
      ]
     },
     "execution_count": 2,
     "metadata": {},
     "output_type": "execute_result"
    }
   ],
   "source": [
    "1+1000000000"
   ]
  },
  {
   "cell_type": "markdown",
   "id": "f6dfb2c0-966c-4b77-9c57-a1b14e5d239f",
   "metadata": {},
   "source": [
    "<hr>\n",
    "<ol>Bulleted List\n",
    "    <li><a href=\"https://open.spotify.com/playlist/37i9dQZF1DWZqd5JICZI0u\" target=\"_blank\">Calming Music</a>\n",
    "    <li> Item Two<IMG src=\"https://en.wikipedia.org/wiki/Do_Han-se#/media/File:Do_Han_Se_2021.png\">\n",
    "        <li><strike>Item Two and a Half</strike>\n",
    "    \n",
    "    "
   ]
  },
  {
   "cell_type": "code",
   "execution_count": null,
   "id": "928f67c3-7015-4709-b894-0f9a1158b44c",
   "metadata": {},
   "outputs": [],
   "source": []
  }
 ],
 "metadata": {
  "kernelspec": {
   "display_name": "Python",
   "language": "python",
   "name": "conda-env-python-py"
  },
  "language_info": {
   "codemirror_mode": {
    "name": "ipython",
    "version": 3
   },
   "file_extension": ".py",
   "mimetype": "text/x-python",
   "name": "python",
   "nbconvert_exporter": "python",
   "pygments_lexer": "ipython3",
   "version": "3.7.12"
  }
 },
 "nbformat": 4,
 "nbformat_minor": 5
}
